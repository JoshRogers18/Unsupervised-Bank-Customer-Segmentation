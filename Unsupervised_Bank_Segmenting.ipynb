{
  "nbformat": 4,
  "nbformat_minor": 0,
  "metadata": {
    "colab": {
      "name": "Unsupervised Bank Segmenting.ipynb",
      "provenance": [],
      "collapsed_sections": [],
      "authorship_tag": "ABX9TyNkm1j+RT9OIOT15ejIR3vv",
      "include_colab_link": true
    },
    "kernelspec": {
      "name": "python3",
      "display_name": "Python 3"
    },
    "language_info": {
      "name": "python"
    }
  },
  "cells": [
    {
      "cell_type": "markdown",
      "metadata": {
        "id": "view-in-github",
        "colab_type": "text"
      },
      "source": [
        "<a href=\"https://colab.research.google.com/github/JoshRogers18/Unsupervised-Bank-Customer-Segmentation/blob/main/Unsupervised_Bank_Segmenting.ipynb\" target=\"_parent\"><img src=\"https://colab.research.google.com/assets/colab-badge.svg\" alt=\"Open In Colab\"/></a>"
      ]
    },
    {
      "cell_type": "code",
      "metadata": {
        "id": "bLOADrzeYcnz"
      },
      "source": [
        "import pandas as pd\n",
        "import numpy as np\n",
        "import seaborn as sns\n",
        "import matplotlib.pyplot as plt\n",
        "from sklearn.preprocessing import StandardScaler, normalize\n",
        "from sklearn.cluster import KMeans\n",
        "from sklearn.decomposition import PCA\n",
        "\n",
        "# You may need to re-upload the data into the files\n",
        "df = pd.read_csv('marketing_data.csv')\n",
        "df.head()\n",
        "df.info()\n",
        "df.describe()\n",
        "\n",
        "# This is data from a bank about it's customers over the course of 6 months\n",
        "# Includes transaction frequency, amount, tenure, etc.\n",
        "# Goal: Use ML in order to launch a targeted marketing ad campaign tailered to specific segments\n",
        "# Keywords: Marketing Segmentation\n",
        "# Want to divide customers into new customers, customers who use credit cards for transactions only, \n",
        "# customers who use their cards for loans, and customers who are increasing their credit limit"
      ],
      "execution_count": null,
      "outputs": []
    },
    {
      "cell_type": "code",
      "metadata": {
        "id": "uF3HM00xIqv2"
      },
      "source": [
        "# CUSTID: Identification of Credit Card holder \n",
        "# BALANCE: Balance amount left in customer's account to make purchases\n",
        "# BALANCE_FREQUENCY: How frequently the Balance is updated, score between 0 and 1 (1 = frequently updated, 0 = not frequently updated)\n",
        "# PURCHASES: Amount of purchases made from account\n",
        "# ONEOFFPURCHASES: Maximum purchase amount done in one-go\n",
        "# INSTALLMENTS_PURCHASES: Amount of purchase done in installment\n",
        "# CASH_ADVANCE: Cash in advance given by the user\n",
        "# PURCHASES_FREQUENCY: How frequently the Purchases are being made, score between 0 and 1 (1 = frequently purchased, 0 = not frequently purchased)\n",
        "# ONEOFF_PURCHASES_FREQUENCY: How frequently Purchases are happening in one-go (1 = frequently purchased, 0 = not frequently purchased)\n",
        "# PURCHASES_INSTALLMENTS_FREQUENCY: How frequently purchases in installments are being done (1 = frequently done, 0 = not frequently done)\n",
        "# CASH_ADVANCE_FREQUENCY: How frequently the cash in advance being paid\n",
        "# CASH_ADVANCE_TRX: Number of Transactions made with \"Cash in Advance\"\n",
        "# PURCHASES_TRX: Number of purchase transactions made\n",
        "# CREDIT_LIMIT: Limit of Credit Card for user\n",
        "# PAYMENTS: Amount of Payment done by user\n",
        "# MINIMUM_PAYMENTS: Minimum amount of payments made by user  \n",
        "# PRC_FULL_PAYMENT: Percent of full payment paid by user\n",
        "# TENURE: Tenure of credit card service for user"
      ],
      "execution_count": null,
      "outputs": []
    },
    {
      "cell_type": "code",
      "metadata": {
        "id": "fGs8l8Z6R7oG"
      },
      "source": [
        "# See how many missing valus there were in the data and impute them with average\n",
        "sns.heatmap(df.isnull(), yticklabels= False, cbar = False, cmap = 'Reds')\n",
        "df.isnull().sum()\n",
        "\n",
        "df.loc[(df.MINIMUM_PAYMENTS.isnull() == True), 'MINIMUM_PAYMENTS'] = df.MINIMUM_PAYMENTS.mean()\n",
        "df.loc[(df.CREDIT_LIMIT.isnull() == True), 'CREDIT_LIMIT'] = df.MINIMUM_PAYMENTS.mean()\n",
        "\n",
        "df.duplicated().sum()"
      ],
      "execution_count": null,
      "outputs": []
    },
    {
      "cell_type": "code",
      "metadata": {
        "id": "JUlpn7ohYoFQ"
      },
      "source": [
        "df.drop('CUST_ID',axis=1, inplace = True)\n",
        "\n",
        "# KDE demonstrates the probability density at different values in a continuous variable. \n",
        "plt.figure(figsize=(10,50))\n",
        "for i in range(len(df.columns)):\n",
        "  plt.subplot(17,1,i+1)\n",
        "  sns.distplot(df[df.columns[i]], kde_kws={'color':'b', 'lw':3, 'label':'KDE', 'bw':0.1}, hist_kws={'color':'g'})\n",
        "  plt.title(df.columns[i])\n",
        "\n",
        "plt.tight_layout()"
      ],
      "execution_count": null,
      "outputs": []
    },
    {
      "cell_type": "code",
      "metadata": {
        "id": "Z8ydcyrtckC7"
      },
      "source": [
        "plt.subplots(figsize = (20,10))\n",
        "sns.heatmap(df.corr(), annot=True, mask=np.triu(df.corr()))"
      ],
      "execution_count": null,
      "outputs": []
    },
    {
      "cell_type": "code",
      "metadata": {
        "id": "vWRC22h0g5CC"
      },
      "source": [
        "scaler = StandardScaler()\n",
        "df1 = scaler.fit_transform(df)"
      ],
      "execution_count": null,
      "outputs": []
    },
    {
      "cell_type": "code",
      "metadata": {
        "id": "rC1cNAn61bva"
      },
      "source": [
        "# Looking at the chart below, we can see that the elbow lands at about 4 clusters\n",
        "distortions = []\n",
        "K = range(1,10)\n",
        "for k in K:\n",
        "    kmeanModel = KMeans(n_clusters=k)\n",
        "    kmeanModel.fit(df1)\n",
        "    distortions.append(kmeanModel.inertia_)\n",
        "\n",
        "plt.figure(figsize=(12,8))\n",
        "plt.plot(K, distortions, 'bx-')\n",
        "plt.xlabel('k')\n",
        "plt.ylabel('Distortion')\n",
        "plt.title('The Elbow Method showing the optimal k')\n",
        "plt.show()"
      ],
      "execution_count": null,
      "outputs": []
    },
    {
      "cell_type": "code",
      "metadata": {
        "id": "PrFTZQ7n87Ix"
      },
      "source": [
        "# When we try to look again at the data, we'll notice that it is difficult to read when scaled.\n",
        "kmeans = KMeans(4)\n",
        "kmeans.fit(df1)\n",
        "labels = kmeans.labels_"
      ],
      "execution_count": null,
      "outputs": []
    },
    {
      "cell_type": "code",
      "metadata": {
        "colab": {
          "base_uri": "https://localhost:8080/",
          "height": 193
        },
        "id": "tDY51lWODUY4",
        "outputId": "d177690d-16ad-4a39-e822-773cc3a81596"
      },
      "source": [
        "\n",
        "cluster_centers = pd.DataFrame(data = kmeans.cluster_centers_, columns = [df.columns])\n",
        "cluster_centers"
      ],
      "execution_count": null,
      "outputs": [
        {
          "output_type": "execute_result",
          "data": {
            "text/html": [
              "<div>\n",
              "<style scoped>\n",
              "    .dataframe tbody tr th:only-of-type {\n",
              "        vertical-align: middle;\n",
              "    }\n",
              "\n",
              "    .dataframe tbody tr th {\n",
              "        vertical-align: top;\n",
              "    }\n",
              "\n",
              "    .dataframe thead tr th {\n",
              "        text-align: left;\n",
              "    }\n",
              "</style>\n",
              "<table border=\"1\" class=\"dataframe\">\n",
              "  <thead>\n",
              "    <tr>\n",
              "      <th></th>\n",
              "      <th>BALANCE</th>\n",
              "      <th>BALANCE_FREQUENCY</th>\n",
              "      <th>PURCHASES</th>\n",
              "      <th>ONEOFF_PURCHASES</th>\n",
              "      <th>INSTALLMENTS_PURCHASES</th>\n",
              "      <th>CASH_ADVANCE</th>\n",
              "      <th>PURCHASES_FREQUENCY</th>\n",
              "      <th>ONEOFF_PURCHASES_FREQUENCY</th>\n",
              "      <th>PURCHASES_INSTALLMENTS_FREQUENCY</th>\n",
              "      <th>CASH_ADVANCE_FREQUENCY</th>\n",
              "      <th>CASH_ADVANCE_TRX</th>\n",
              "      <th>PURCHASES_TRX</th>\n",
              "      <th>CREDIT_LIMIT</th>\n",
              "      <th>PAYMENTS</th>\n",
              "      <th>MINIMUM_PAYMENTS</th>\n",
              "      <th>PRC_FULL_PAYMENT</th>\n",
              "      <th>TENURE</th>\n",
              "    </tr>\n",
              "  </thead>\n",
              "  <tbody>\n",
              "    <tr>\n",
              "      <th>0</th>\n",
              "      <td>1.459578</td>\n",
              "      <td>0.384753</td>\n",
              "      <td>-0.234638</td>\n",
              "      <td>-0.163914</td>\n",
              "      <td>-0.253747</td>\n",
              "      <td>1.688972</td>\n",
              "      <td>-0.504848</td>\n",
              "      <td>-0.212939</td>\n",
              "      <td>-0.450201</td>\n",
              "      <td>1.745948</td>\n",
              "      <td>1.617143</td>\n",
              "      <td>-0.283580</td>\n",
              "      <td>0.839032</td>\n",
              "      <td>0.603821</td>\n",
              "      <td>0.490910</td>\n",
              "      <td>-0.406367</td>\n",
              "      <td>-0.097146</td>\n",
              "    </tr>\n",
              "    <tr>\n",
              "      <th>1</th>\n",
              "      <td>-0.265552</td>\n",
              "      <td>-0.368944</td>\n",
              "      <td>-0.343190</td>\n",
              "      <td>-0.230500</td>\n",
              "      <td>-0.387798</td>\n",
              "      <td>-0.182691</td>\n",
              "      <td>-0.797823</td>\n",
              "      <td>-0.389437</td>\n",
              "      <td>-0.714246</td>\n",
              "      <td>-0.101500</td>\n",
              "      <td>-0.164607</td>\n",
              "      <td>-0.474987</td>\n",
              "      <td>-0.334538</td>\n",
              "      <td>-0.262060</td>\n",
              "      <td>-0.119249</td>\n",
              "      <td>-0.258866</td>\n",
              "      <td>-0.052972</td>\n",
              "    </tr>\n",
              "    <tr>\n",
              "      <th>2</th>\n",
              "      <td>-0.321688</td>\n",
              "      <td>0.242574</td>\n",
              "      <td>0.109044</td>\n",
              "      <td>0.000926</td>\n",
              "      <td>0.255904</td>\n",
              "      <td>-0.366373</td>\n",
              "      <td>0.983721</td>\n",
              "      <td>0.317153</td>\n",
              "      <td>0.874138</td>\n",
              "      <td>-0.462599</td>\n",
              "      <td>-0.360303</td>\n",
              "      <td>0.296985</td>\n",
              "      <td>-0.077182</td>\n",
              "      <td>-0.138502</td>\n",
              "      <td>-0.091844</td>\n",
              "      <td>0.395041</td>\n",
              "      <td>0.057744</td>\n",
              "    </tr>\n",
              "    <tr>\n",
              "      <th>3</th>\n",
              "      <td>0.954485</td>\n",
              "      <td>0.462694</td>\n",
              "      <td>3.125845</td>\n",
              "      <td>2.713251</td>\n",
              "      <td>2.406470</td>\n",
              "      <td>-0.155091</td>\n",
              "      <td>1.136338</td>\n",
              "      <td>1.798653</td>\n",
              "      <td>1.065918</td>\n",
              "      <td>-0.319096</td>\n",
              "      <td>-0.170458</td>\n",
              "      <td>3.003251</td>\n",
              "      <td>1.429914</td>\n",
              "      <td>1.919096</td>\n",
              "      <td>0.477421</td>\n",
              "      <td>0.454703</td>\n",
              "      <td>0.324140</td>\n",
              "    </tr>\n",
              "  </tbody>\n",
              "</table>\n",
              "</div>"
            ],
            "text/plain": [
              "    BALANCE BALANCE_FREQUENCY  ... PRC_FULL_PAYMENT    TENURE\n",
              "0  1.459578          0.384753  ...        -0.406367 -0.097146\n",
              "1 -0.265552         -0.368944  ...        -0.258866 -0.052972\n",
              "2 -0.321688          0.242574  ...         0.395041  0.057744\n",
              "3  0.954485          0.462694  ...         0.454703  0.324140\n",
              "\n",
              "[4 rows x 17 columns]"
            ]
          },
          "metadata": {},
          "execution_count": 81
        }
      ]
    },
    {
      "cell_type": "code",
      "metadata": {
        "id": "tVnR3aht_oQP"
      },
      "source": [
        "# Here we are inversing/removing the standardization since we found our elbow\n",
        "cluster_centers = scaler.inverse_transform(cluster_centers)\n",
        "cluster_centers = pd.DataFrame(data = cluster_centers, columns = [df.columns])\n",
        "cluster_centers\n",
        "\n",
        "# First cluster  : (most lucrative) who use credit card as a loan, customers with the highest balance and cash advance, low percentage of full payment (3%), high cash advance frequency (0.5)\n",
        "# Second cluster : Those are customers who pay low amount of intrerest charges and are careful with their money since lowest purchase frequency and installments purchases and credit limit\n",
        "# Third cluster  : Cluster with lowest balance and cash advance\n",
        "# Fourth cluster : highest credit limit and highest percentage of full payment, target for increase credit limit and increase spending habits since frequent purchases are happening in one-go"
      ],
      "execution_count": null,
      "outputs": []
    },
    {
      "cell_type": "code",
      "metadata": {
        "id": "L8sC6pS1GJQW"
      },
      "source": [
        "# concatenate the clusters labels to our original dataframe so that each row has an associated cluster they fit into\n",
        "df_cluster = pd.concat([df, pd.DataFrame({'cluster':labels})], axis = 1)\n",
        "df_cluster.head()\n",
        "\n"
      ],
      "execution_count": null,
      "outputs": []
    },
    {
      "cell_type": "code",
      "metadata": {
        "id": "BklemzvOEtgw"
      },
      "source": [
        "# Plot the histogram of various clusters, helps confirm different clusters created\n",
        "for i in df.columns:\n",
        "  plt.figure(figsize = (35, 5))\n",
        "  for j in range(4):\n",
        "    plt.subplot(1,4,j+1)\n",
        "    cluster = df_cluster[df_cluster['cluster'] == j]\n",
        "    cluster[i].hist(bins = 20)\n",
        "    plt.title('{}    \\nCluster {} '.format(i,j))\n",
        "  \n",
        "  plt.show()"
      ],
      "execution_count": null,
      "outputs": []
    },
    {
      "cell_type": "code",
      "metadata": {
        "id": "pZrivtbtIKel"
      },
      "source": [
        "pca = PCA(n_components=2)\n",
        "principal_comp = pca.fit_transform(df1)\n",
        "principal_comp"
      ],
      "execution_count": null,
      "outputs": []
    },
    {
      "cell_type": "code",
      "metadata": {
        "id": "XKixFkSZJQc_"
      },
      "source": [
        "# Create two PCAs\n",
        "pca_df = pd.DataFrame(data = principal_comp, columns =['pca1','pca2'])\n",
        "pca_df.head()"
      ],
      "execution_count": null,
      "outputs": []
    },
    {
      "cell_type": "code",
      "metadata": {
        "id": "DlEfWlVYJS-L"
      },
      "source": [
        "# Concat thes into data frame\n",
        "pca_df = pd.concat([pca_df,pd.DataFrame({'cluster':labels})], axis = 1)\n",
        "pca_df.head()"
      ],
      "execution_count": null,
      "outputs": []
    },
    {
      "cell_type": "code",
      "metadata": {
        "id": "v99KPLjZJTQc"
      },
      "source": [
        "# With this we can view the the clusters all together and see where they differ and take place\n",
        "plt.figure(figsize=(10,10))\n",
        "ax = sns.scatterplot(x=\"pca1\", y=\"pca2\", hue = \"cluster\", data = pca_df, palette =['red','green','blue','purple'])\n",
        "plt.show()"
      ],
      "execution_count": null,
      "outputs": []
    },
    {
      "cell_type": "code",
      "metadata": {
        "id": "G7nEdS0GLLUo"
      },
      "source": [
        "# Perfromed data viz, fixed missing values\n",
        "# corrplot\n",
        "# applied kmeans to better understand customer segmentation\n",
        "# able to plot histograms distribution of all various clusters\n",
        "# Used PCA to convert from out original data into a component space and be able to visualized the different clusters in that way"
      ],
      "execution_count": null,
      "outputs": []
    }
  ]
}